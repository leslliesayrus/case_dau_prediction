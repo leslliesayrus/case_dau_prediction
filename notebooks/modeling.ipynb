{
 "cells": [
  {
   "cell_type": "code",
   "execution_count": 1,
   "id": "b5a158f7-b3d8-4ada-9b1d-6e2680d42fc2",
   "metadata": {},
   "outputs": [],
   "source": [
    "import pandas as pd"
   ]
  },
  {
   "cell_type": "code",
   "execution_count": 2,
   "id": "a633a436-74b7-46a7-beaa-3b56157188a3",
   "metadata": {},
   "outputs": [],
   "source": [
    "abt = pd.read_csv(\"abt/part-00000-f5cbe7a6-d05b-4c21-9e60-9a7fd3ba5cba-c000.csv\")"
   ]
  },
  {
   "cell_type": "code",
   "execution_count": 3,
   "id": "0c313ed7-09e3-4f83-a505-6d64468ee166",
   "metadata": {},
   "outputs": [
    {
     "data": {
      "text/plain": [
       "(38708, 111)"
      ]
     },
     "execution_count": 3,
     "metadata": {},
     "output_type": "execute_result"
    }
   ],
   "source": [
    "abt.shape"
   ]
  },
  {
   "cell_type": "code",
   "execution_count": 4,
   "id": "89f6da47-0234-4fcb-9ed6-e4067abb170e",
   "metadata": {},
   "outputs": [],
   "source": [
    "abt['date_month'] = pd.to_datetime(abt['date']).dt.strftime('%Y%m').astype(\"int\")"
   ]
  },
  {
   "cell_type": "code",
   "execution_count": 5,
   "id": "f0ed602a-0934-4a80-9e41-176c1fabfd2c",
   "metadata": {},
   "outputs": [
    {
     "data": {
      "text/plain": [
       "202401    4355\n",
       "202402    4105\n",
       "202403    4505\n",
       "202404    4381\n",
       "202405    4347\n",
       "202406    4168\n",
       "202407    4374\n",
       "202408    4320\n",
       "202409    4153\n",
       "Name: date_month, dtype: int64"
      ]
     },
     "execution_count": 5,
     "metadata": {},
     "output_type": "execute_result"
    }
   ],
   "source": [
    "abt['date_month'].value_counts().sort_index()"
   ]
  },
  {
   "cell_type": "code",
   "execution_count": 6,
   "id": "143c3a5a-0ee8-4cf2-a850-1db815057a66",
   "metadata": {
    "scrolled": true
   },
   "outputs": [
    {
     "data": {
      "text/plain": [
       "date_month\n",
       "202401    434038.283352\n",
       "202402    446822.165164\n",
       "202403    460856.888346\n",
       "202404    463153.561059\n",
       "202405    464155.812054\n",
       "202406    462828.279750\n",
       "202407    461713.207590\n",
       "202408    471342.845139\n",
       "202409    475134.945341\n",
       "Name: dauReal, dtype: float64"
      ]
     },
     "execution_count": 6,
     "metadata": {},
     "output_type": "execute_result"
    }
   ],
   "source": [
    "abt.groupby(\"date_month\")['dauReal'].mean()"
   ]
  },
  {
   "cell_type": "markdown",
   "id": "31c17b55",
   "metadata": {},
   "source": [
    "#### divisao dos dados entre treino e teste utilizando Out of Time"
   ]
  },
  {
   "cell_type": "code",
   "execution_count": 7,
   "id": "4832381d-0820-4fd5-aa87-c50093271f76",
   "metadata": {},
   "outputs": [],
   "source": [
    "abt_train = abt[abt['date_month'] <= 202408].copy()\n",
    "abt_test = abt[abt['date_month'] > 202408].copy()"
   ]
  },
  {
   "cell_type": "markdown",
   "id": "cbcd4ad5",
   "metadata": {},
   "source": [
    "#### criacao de um dataframe com a média das variaveis na base de treino (para evitar dados de teste no treino), para substituir os dados nulos pela média. Esse dataframe sera salvo na pasta de artefatos, pois para o contexto de produção streaming é impossível calcular a média para os dados, por exemplo se a requisição for feita para consultar o DAU de um único app específico e alguma das variaveis for nula, como a média será calculada? Por isso salvei esse dataframe que contem o valor das médias."
   ]
  },
  {
   "cell_type": "code",
   "execution_count": null,
   "id": "a24b0dd9-c09a-45ec-9af7-c9e175cf598c",
   "metadata": {
    "scrolled": true
   },
   "outputs": [],
   "source": [
    "for i in abt.columns:\n",
    "    mean_value = avg_df[avg_df['index'] == i]['mean'].values\n",
    "    if len(mean_value) > 0: \n",
    "        abt_train[i] = abt_train[i].fillna(mean_value[0])"
   ]
  },
  {
   "cell_type": "code",
   "execution_count": 10,
   "id": "c942bc04-79e5-4a31-9043-c3f788631598",
   "metadata": {},
   "outputs": [],
   "source": [
    "avg_df = abt_train.describe().iloc[1,:].reset_index()"
   ]
  },
  {
   "cell_type": "code",
   "execution_count": 79,
   "id": "13156d58",
   "metadata": {},
   "outputs": [],
   "source": [
    "avg_df.to_csv(\"avg_features.csv\", index = False)"
   ]
  },
  {
   "cell_type": "code",
   "execution_count": 11,
   "id": "ea3e7d1a-875d-4acb-b1ff-16ada1c86b9e",
   "metadata": {},
   "outputs": [],
   "source": [
    "for i in abt.columns:\n",
    "    mean_value = avg_df[avg_df['index'] == i]['mean'].values\n",
    "    if len(mean_value) > 0: \n",
    "        abt_train[i] = abt_train[i].fillna(mean_value[0])"
   ]
  },
  {
   "cell_type": "code",
   "execution_count": 12,
   "id": "14ea6494-f45c-4241-8eb1-bcd5cc8a39af",
   "metadata": {
    "scrolled": false
   },
   "outputs": [
    {
     "data": {
      "text/plain": [
       "date                     0\n",
       "max_45_predictionLoss    0\n",
       "min_45_predictionLoss    0\n",
       "avg_45_predictionLoss    0\n",
       "sum_45_predictionLoss    0\n",
       "                        ..\n",
       "avg_15_daily_reviews     0\n",
       "sum_15_daily_reviews     0\n",
       "max_90_daily_ratings     0\n",
       "dauReal                  0\n",
       "date_month               0\n",
       "Length: 112, dtype: int64"
      ]
     },
     "execution_count": 12,
     "metadata": {},
     "output_type": "execute_result"
    }
   ],
   "source": [
    "abt_train.isna().sum().sort_values()"
   ]
  },
  {
   "cell_type": "markdown",
   "id": "321e8f67",
   "metadata": {},
   "source": [
    "#### Processo de seleção de variaveis com o Random Forest Regressor para selecionar as variaveis com os maiores valores de Feature Importance"
   ]
  },
  {
   "cell_type": "code",
   "execution_count": 13,
   "id": "6f8d3647-c9c6-4dec-9112-8b1ff0faa7fb",
   "metadata": {},
   "outputs": [],
   "source": [
    "abt_train_fs = abt_train.drop(['date', 'appid', 'category', \"date_month\"], axis =1)"
   ]
  },
  {
   "cell_type": "code",
   "execution_count": 14,
   "id": "5906ebc0-a93c-4198-9667-2766e7d141f1",
   "metadata": {},
   "outputs": [],
   "source": [
    "cols_x_fs = [i for i in abt_train_fs if 'dauReal' not in i]"
   ]
  },
  {
   "cell_type": "code",
   "execution_count": 15,
   "id": "d47471ba-4084-48b0-b20b-b76f028c4555",
   "metadata": {},
   "outputs": [],
   "source": [
    "x_fs = abt_train_fs[cols_x_fs].values\n",
    "y_fs = abt_train_fs['dauReal'].values"
   ]
  },
  {
   "cell_type": "code",
   "execution_count": 16,
   "id": "f84fefbb-379c-4bab-a6ae-b2c5b336f084",
   "metadata": {},
   "outputs": [],
   "source": [
    "from sklearn.ensemble import RandomForestRegressor"
   ]
  },
  {
   "cell_type": "code",
   "execution_count": 17,
   "id": "5c0b1bd1-303b-408f-913f-a2161601574e",
   "metadata": {},
   "outputs": [],
   "source": [
    "rf_regressor = RandomForestRegressor(n_estimators=100, random_state=50)"
   ]
  },
  {
   "cell_type": "code",
   "execution_count": 18,
   "id": "9ad54cc8-6877-49ae-9c70-7b35aba0d3d4",
   "metadata": {},
   "outputs": [
    {
     "data": {
      "text/html": [
       "<style>#sk-container-id-1 {color: black;background-color: white;}#sk-container-id-1 pre{padding: 0;}#sk-container-id-1 div.sk-toggleable {background-color: white;}#sk-container-id-1 label.sk-toggleable__label {cursor: pointer;display: block;width: 100%;margin-bottom: 0;padding: 0.3em;box-sizing: border-box;text-align: center;}#sk-container-id-1 label.sk-toggleable__label-arrow:before {content: \"▸\";float: left;margin-right: 0.25em;color: #696969;}#sk-container-id-1 label.sk-toggleable__label-arrow:hover:before {color: black;}#sk-container-id-1 div.sk-estimator:hover label.sk-toggleable__label-arrow:before {color: black;}#sk-container-id-1 div.sk-toggleable__content {max-height: 0;max-width: 0;overflow: hidden;text-align: left;background-color: #f0f8ff;}#sk-container-id-1 div.sk-toggleable__content pre {margin: 0.2em;color: black;border-radius: 0.25em;background-color: #f0f8ff;}#sk-container-id-1 input.sk-toggleable__control:checked~div.sk-toggleable__content {max-height: 200px;max-width: 100%;overflow: auto;}#sk-container-id-1 input.sk-toggleable__control:checked~label.sk-toggleable__label-arrow:before {content: \"▾\";}#sk-container-id-1 div.sk-estimator input.sk-toggleable__control:checked~label.sk-toggleable__label {background-color: #d4ebff;}#sk-container-id-1 div.sk-label input.sk-toggleable__control:checked~label.sk-toggleable__label {background-color: #d4ebff;}#sk-container-id-1 input.sk-hidden--visually {border: 0;clip: rect(1px 1px 1px 1px);clip: rect(1px, 1px, 1px, 1px);height: 1px;margin: -1px;overflow: hidden;padding: 0;position: absolute;width: 1px;}#sk-container-id-1 div.sk-estimator {font-family: monospace;background-color: #f0f8ff;border: 1px dotted black;border-radius: 0.25em;box-sizing: border-box;margin-bottom: 0.5em;}#sk-container-id-1 div.sk-estimator:hover {background-color: #d4ebff;}#sk-container-id-1 div.sk-parallel-item::after {content: \"\";width: 100%;border-bottom: 1px solid gray;flex-grow: 1;}#sk-container-id-1 div.sk-label:hover label.sk-toggleable__label {background-color: #d4ebff;}#sk-container-id-1 div.sk-serial::before {content: \"\";position: absolute;border-left: 1px solid gray;box-sizing: border-box;top: 0;bottom: 0;left: 50%;z-index: 0;}#sk-container-id-1 div.sk-serial {display: flex;flex-direction: column;align-items: center;background-color: white;padding-right: 0.2em;padding-left: 0.2em;position: relative;}#sk-container-id-1 div.sk-item {position: relative;z-index: 1;}#sk-container-id-1 div.sk-parallel {display: flex;align-items: stretch;justify-content: center;background-color: white;position: relative;}#sk-container-id-1 div.sk-item::before, #sk-container-id-1 div.sk-parallel-item::before {content: \"\";position: absolute;border-left: 1px solid gray;box-sizing: border-box;top: 0;bottom: 0;left: 50%;z-index: -1;}#sk-container-id-1 div.sk-parallel-item {display: flex;flex-direction: column;z-index: 1;position: relative;background-color: white;}#sk-container-id-1 div.sk-parallel-item:first-child::after {align-self: flex-end;width: 50%;}#sk-container-id-1 div.sk-parallel-item:last-child::after {align-self: flex-start;width: 50%;}#sk-container-id-1 div.sk-parallel-item:only-child::after {width: 0;}#sk-container-id-1 div.sk-dashed-wrapped {border: 1px dashed gray;margin: 0 0.4em 0.5em 0.4em;box-sizing: border-box;padding-bottom: 0.4em;background-color: white;}#sk-container-id-1 div.sk-label label {font-family: monospace;font-weight: bold;display: inline-block;line-height: 1.2em;}#sk-container-id-1 div.sk-label-container {text-align: center;}#sk-container-id-1 div.sk-container {/* jupyter's `normalize.less` sets `[hidden] { display: none; }` but bootstrap.min.css set `[hidden] { display: none !important; }` so we also need the `!important` here to be able to override the default hidden behavior on the sphinx rendered scikit-learn.org. See: https://github.com/scikit-learn/scikit-learn/issues/21755 */display: inline-block !important;position: relative;}#sk-container-id-1 div.sk-text-repr-fallback {display: none;}</style><div id=\"sk-container-id-1\" class=\"sk-top-container\"><div class=\"sk-text-repr-fallback\"><pre>RandomForestRegressor(random_state=50)</pre><b>In a Jupyter environment, please rerun this cell to show the HTML representation or trust the notebook. <br />On GitHub, the HTML representation is unable to render, please try loading this page with nbviewer.org.</b></div><div class=\"sk-container\" hidden><div class=\"sk-item\"><div class=\"sk-estimator sk-toggleable\"><input class=\"sk-toggleable__control sk-hidden--visually\" id=\"sk-estimator-id-1\" type=\"checkbox\" checked><label for=\"sk-estimator-id-1\" class=\"sk-toggleable__label sk-toggleable__label-arrow\">RandomForestRegressor</label><div class=\"sk-toggleable__content\"><pre>RandomForestRegressor(random_state=50)</pre></div></div></div></div></div>"
      ],
      "text/plain": [
       "RandomForestRegressor(random_state=50)"
      ]
     },
     "execution_count": 18,
     "metadata": {},
     "output_type": "execute_result"
    }
   ],
   "source": [
    "rf_regressor.fit(x_fs, y_fs)"
   ]
  },
  {
   "cell_type": "code",
   "execution_count": 19,
   "id": "83bfde1d-07f5-42bc-bdd9-591146978cbf",
   "metadata": {},
   "outputs": [],
   "source": [
    "feature_importances = rf_regressor.feature_importances_"
   ]
  },
  {
   "cell_type": "code",
   "execution_count": 20,
   "id": "d6d093a1-2017-4a24-b29f-dfafb59f37ad",
   "metadata": {},
   "outputs": [],
   "source": [
    "df_feature_importances = pd.DataFrame({\n",
    "    \"feature\": cols_x_fs,\n",
    "    \"importance\": feature_importances\n",
    "    \n",
    "}).sort_values(\"importance\", ascending=False)"
   ]
  },
  {
   "cell_type": "code",
   "execution_count": 21,
   "id": "d08d55ab-5a71-4b23-a40b-7b7cd125bd97",
   "metadata": {
    "scrolled": true
   },
   "outputs": [
    {
     "data": {
      "text/html": [
       "<div>\n",
       "<style scoped>\n",
       "    .dataframe tbody tr th:only-of-type {\n",
       "        vertical-align: middle;\n",
       "    }\n",
       "\n",
       "    .dataframe tbody tr th {\n",
       "        vertical-align: top;\n",
       "    }\n",
       "\n",
       "    .dataframe thead th {\n",
       "        text-align: right;\n",
       "    }\n",
       "</style>\n",
       "<table border=\"1\" class=\"dataframe\">\n",
       "  <thead>\n",
       "    <tr style=\"text-align: right;\">\n",
       "      <th></th>\n",
       "      <th>feature</th>\n",
       "      <th>importance</th>\n",
       "    </tr>\n",
       "  </thead>\n",
       "  <tbody>\n",
       "    <tr>\n",
       "      <th>1</th>\n",
       "      <td>ratings</td>\n",
       "      <td>0.745890</td>\n",
       "    </tr>\n",
       "    <tr>\n",
       "      <th>3</th>\n",
       "      <td>reviews</td>\n",
       "      <td>0.048469</td>\n",
       "    </tr>\n",
       "    <tr>\n",
       "      <th>62</th>\n",
       "      <td>max_60_newinstalls</td>\n",
       "      <td>0.045943</td>\n",
       "    </tr>\n",
       "    <tr>\n",
       "      <th>58</th>\n",
       "      <td>max_45_newinstalls</td>\n",
       "      <td>0.033191</td>\n",
       "    </tr>\n",
       "    <tr>\n",
       "      <th>66</th>\n",
       "      <td>max_90_newinstalls</td>\n",
       "      <td>0.032159</td>\n",
       "    </tr>\n",
       "    <tr>\n",
       "      <th>48</th>\n",
       "      <td>avg_15_newinstalls</td>\n",
       "      <td>0.011502</td>\n",
       "    </tr>\n",
       "    <tr>\n",
       "      <th>86</th>\n",
       "      <td>max_90_predictionLoss</td>\n",
       "      <td>0.008682</td>\n",
       "    </tr>\n",
       "    <tr>\n",
       "      <th>0</th>\n",
       "      <td>category_flag</td>\n",
       "      <td>0.008652</td>\n",
       "    </tr>\n",
       "    <tr>\n",
       "      <th>2</th>\n",
       "      <td>daily_ratings</td>\n",
       "      <td>0.008440</td>\n",
       "    </tr>\n",
       "    <tr>\n",
       "      <th>106</th>\n",
       "      <td>max_90_diff_install_uninstall</td>\n",
       "      <td>0.003780</td>\n",
       "    </tr>\n",
       "    <tr>\n",
       "      <th>26</th>\n",
       "      <td>max_90_daily_ratings</td>\n",
       "      <td>0.003053</td>\n",
       "    </tr>\n",
       "    <tr>\n",
       "      <th>6</th>\n",
       "      <td>predictionLoss</td>\n",
       "      <td>0.002552</td>\n",
       "    </tr>\n",
       "    <tr>\n",
       "      <th>54</th>\n",
       "      <td>max_30_newinstalls</td>\n",
       "      <td>0.002422</td>\n",
       "    </tr>\n",
       "    <tr>\n",
       "      <th>52</th>\n",
       "      <td>avg_30_newinstalls</td>\n",
       "      <td>0.002162</td>\n",
       "    </tr>\n",
       "    <tr>\n",
       "      <th>63</th>\n",
       "      <td>sum_90_newinstalls</td>\n",
       "      <td>0.002001</td>\n",
       "    </tr>\n",
       "    <tr>\n",
       "      <th>76</th>\n",
       "      <td>avg_45_predictionLoss</td>\n",
       "      <td>0.001517</td>\n",
       "    </tr>\n",
       "    <tr>\n",
       "      <th>84</th>\n",
       "      <td>avg_90_predictionLoss</td>\n",
       "      <td>0.001502</td>\n",
       "    </tr>\n",
       "    <tr>\n",
       "      <th>72</th>\n",
       "      <td>avg_30_predictionLoss</td>\n",
       "      <td>0.001487</td>\n",
       "    </tr>\n",
       "    <tr>\n",
       "      <th>100</th>\n",
       "      <td>avg_60_diff_install_uninstall</td>\n",
       "      <td>0.001445</td>\n",
       "    </tr>\n",
       "    <tr>\n",
       "      <th>103</th>\n",
       "      <td>sum_90_diff_install_uninstall</td>\n",
       "      <td>0.001148</td>\n",
       "    </tr>\n",
       "  </tbody>\n",
       "</table>\n",
       "</div>"
      ],
      "text/plain": [
       "                           feature  importance\n",
       "1                          ratings    0.745890\n",
       "3                          reviews    0.048469\n",
       "62              max_60_newinstalls    0.045943\n",
       "58              max_45_newinstalls    0.033191\n",
       "66              max_90_newinstalls    0.032159\n",
       "48              avg_15_newinstalls    0.011502\n",
       "86           max_90_predictionLoss    0.008682\n",
       "0                    category_flag    0.008652\n",
       "2                    daily_ratings    0.008440\n",
       "106  max_90_diff_install_uninstall    0.003780\n",
       "26            max_90_daily_ratings    0.003053\n",
       "6                   predictionLoss    0.002552\n",
       "54              max_30_newinstalls    0.002422\n",
       "52              avg_30_newinstalls    0.002162\n",
       "63              sum_90_newinstalls    0.002001\n",
       "76           avg_45_predictionLoss    0.001517\n",
       "84           avg_90_predictionLoss    0.001502\n",
       "72           avg_30_predictionLoss    0.001487\n",
       "100  avg_60_diff_install_uninstall    0.001445\n",
       "103  sum_90_diff_install_uninstall    0.001148"
      ]
     },
     "execution_count": 21,
     "metadata": {},
     "output_type": "execute_result"
    }
   ],
   "source": [
    "df_feature_importances[0:20]"
   ]
  },
  {
   "cell_type": "markdown",
   "id": "f0cc64a8",
   "metadata": {},
   "source": [
    "#### Eu decidi remover a variavel ratings porque ela estava com um valor de importancia muito discrepante das demais variaveis, em alguns casos o modelo pode ficar instavel."
   ]
  },
  {
   "cell_type": "code",
   "execution_count": 22,
   "id": "656fd345-8269-47d7-a4de-50fbee7bfe81",
   "metadata": {},
   "outputs": [],
   "source": [
    "cols_train = [\"appid\", \"date\", \"date_month\", \"dauReal\"] + list(df_feature_importances.feature.values[0:20])"
   ]
  },
  {
   "cell_type": "code",
   "execution_count": 24,
   "id": "061f7d51-bb2b-4e76-96f8-8f8d25d41af6",
   "metadata": {},
   "outputs": [],
   "source": [
    "cols_train.remove(\"ratings\")"
   ]
  },
  {
   "cell_type": "code",
   "execution_count": 28,
   "id": "e9fb831e",
   "metadata": {},
   "outputs": [],
   "source": [
    "abt_train_01 = abt_train[cols_train]"
   ]
  },
  {
   "cell_type": "markdown",
   "id": "a3c9bb6e",
   "metadata": {},
   "source": [
    "#### Treinamento dos modelos"
   ]
  },
  {
   "cell_type": "markdown",
   "id": "7a24ea9a",
   "metadata": {},
   "source": [
    "#### Optei por usar o pycaret apenas para treinar e fazer o tuning dos hiperparametros e decide não remover os outliers para ter um ambiente mais proximo ao de produção no qual outliers são inevitaveis."
   ]
  },
  {
   "cell_type": "code",
   "execution_count": 29,
   "id": "3c641e61-087a-4dd7-b61e-1c4f891032e9",
   "metadata": {},
   "outputs": [],
   "source": [
    "from pycaret.regression import *"
   ]
  },
  {
   "cell_type": "code",
   "execution_count": 32,
   "id": "436b1db8",
   "metadata": {},
   "outputs": [
    {
     "data": {
      "text/html": [
       "<style type=\"text/css\">\n",
       "#T_1ef16_row9_col1 {\n",
       "  background-color: lightgreen;\n",
       "}\n",
       "</style>\n",
       "<table id=\"T_1ef16\">\n",
       "  <thead>\n",
       "    <tr>\n",
       "      <th class=\"blank level0\" >&nbsp;</th>\n",
       "      <th id=\"T_1ef16_level0_col0\" class=\"col_heading level0 col0\" >Description</th>\n",
       "      <th id=\"T_1ef16_level0_col1\" class=\"col_heading level0 col1\" >Value</th>\n",
       "    </tr>\n",
       "  </thead>\n",
       "  <tbody>\n",
       "    <tr>\n",
       "      <th id=\"T_1ef16_level0_row0\" class=\"row_heading level0 row0\" >0</th>\n",
       "      <td id=\"T_1ef16_row0_col0\" class=\"data row0 col0\" >Session id</td>\n",
       "      <td id=\"T_1ef16_row0_col1\" class=\"data row0 col1\" >4448</td>\n",
       "    </tr>\n",
       "    <tr>\n",
       "      <th id=\"T_1ef16_level0_row1\" class=\"row_heading level0 row1\" >1</th>\n",
       "      <td id=\"T_1ef16_row1_col0\" class=\"data row1 col0\" >Target</td>\n",
       "      <td id=\"T_1ef16_row1_col1\" class=\"data row1 col1\" >dauReal</td>\n",
       "    </tr>\n",
       "    <tr>\n",
       "      <th id=\"T_1ef16_level0_row2\" class=\"row_heading level0 row2\" >2</th>\n",
       "      <td id=\"T_1ef16_row2_col0\" class=\"data row2 col0\" >Target type</td>\n",
       "      <td id=\"T_1ef16_row2_col1\" class=\"data row2 col1\" >Regression</td>\n",
       "    </tr>\n",
       "    <tr>\n",
       "      <th id=\"T_1ef16_level0_row3\" class=\"row_heading level0 row3\" >3</th>\n",
       "      <td id=\"T_1ef16_row3_col0\" class=\"data row3 col0\" >Original data shape</td>\n",
       "      <td id=\"T_1ef16_row3_col1\" class=\"data row3 col1\" >(34555, 23)</td>\n",
       "    </tr>\n",
       "    <tr>\n",
       "      <th id=\"T_1ef16_level0_row4\" class=\"row_heading level0 row4\" >4</th>\n",
       "      <td id=\"T_1ef16_row4_col0\" class=\"data row4 col0\" >Transformed data shape</td>\n",
       "      <td id=\"T_1ef16_row4_col1\" class=\"data row4 col1\" >(34555, 20)</td>\n",
       "    </tr>\n",
       "    <tr>\n",
       "      <th id=\"T_1ef16_level0_row5\" class=\"row_heading level0 row5\" >5</th>\n",
       "      <td id=\"T_1ef16_row5_col0\" class=\"data row5 col0\" >Transformed train set shape</td>\n",
       "      <td id=\"T_1ef16_row5_col1\" class=\"data row5 col1\" >(24188, 20)</td>\n",
       "    </tr>\n",
       "    <tr>\n",
       "      <th id=\"T_1ef16_level0_row6\" class=\"row_heading level0 row6\" >6</th>\n",
       "      <td id=\"T_1ef16_row6_col0\" class=\"data row6 col0\" >Transformed test set shape</td>\n",
       "      <td id=\"T_1ef16_row6_col1\" class=\"data row6 col1\" >(10367, 20)</td>\n",
       "    </tr>\n",
       "    <tr>\n",
       "      <th id=\"T_1ef16_level0_row7\" class=\"row_heading level0 row7\" >7</th>\n",
       "      <td id=\"T_1ef16_row7_col0\" class=\"data row7 col0\" >Ignore features</td>\n",
       "      <td id=\"T_1ef16_row7_col1\" class=\"data row7 col1\" >3</td>\n",
       "    </tr>\n",
       "    <tr>\n",
       "      <th id=\"T_1ef16_level0_row8\" class=\"row_heading level0 row8\" >8</th>\n",
       "      <td id=\"T_1ef16_row8_col0\" class=\"data row8 col0\" >Numeric features</td>\n",
       "      <td id=\"T_1ef16_row8_col1\" class=\"data row8 col1\" >19</td>\n",
       "    </tr>\n",
       "    <tr>\n",
       "      <th id=\"T_1ef16_level0_row9\" class=\"row_heading level0 row9\" >9</th>\n",
       "      <td id=\"T_1ef16_row9_col0\" class=\"data row9 col0\" >Preprocess</td>\n",
       "      <td id=\"T_1ef16_row9_col1\" class=\"data row9 col1\" >True</td>\n",
       "    </tr>\n",
       "    <tr>\n",
       "      <th id=\"T_1ef16_level0_row10\" class=\"row_heading level0 row10\" >10</th>\n",
       "      <td id=\"T_1ef16_row10_col0\" class=\"data row10 col0\" >Imputation type</td>\n",
       "      <td id=\"T_1ef16_row10_col1\" class=\"data row10 col1\" >simple</td>\n",
       "    </tr>\n",
       "    <tr>\n",
       "      <th id=\"T_1ef16_level0_row11\" class=\"row_heading level0 row11\" >11</th>\n",
       "      <td id=\"T_1ef16_row11_col0\" class=\"data row11 col0\" >Numeric imputation</td>\n",
       "      <td id=\"T_1ef16_row11_col1\" class=\"data row11 col1\" >mean</td>\n",
       "    </tr>\n",
       "    <tr>\n",
       "      <th id=\"T_1ef16_level0_row12\" class=\"row_heading level0 row12\" >12</th>\n",
       "      <td id=\"T_1ef16_row12_col0\" class=\"data row12 col0\" >Categorical imputation</td>\n",
       "      <td id=\"T_1ef16_row12_col1\" class=\"data row12 col1\" >mode</td>\n",
       "    </tr>\n",
       "    <tr>\n",
       "      <th id=\"T_1ef16_level0_row13\" class=\"row_heading level0 row13\" >13</th>\n",
       "      <td id=\"T_1ef16_row13_col0\" class=\"data row13 col0\" >Fold Generator</td>\n",
       "      <td id=\"T_1ef16_row13_col1\" class=\"data row13 col1\" >KFold</td>\n",
       "    </tr>\n",
       "    <tr>\n",
       "      <th id=\"T_1ef16_level0_row14\" class=\"row_heading level0 row14\" >14</th>\n",
       "      <td id=\"T_1ef16_row14_col0\" class=\"data row14 col0\" >Fold Number</td>\n",
       "      <td id=\"T_1ef16_row14_col1\" class=\"data row14 col1\" >10</td>\n",
       "    </tr>\n",
       "    <tr>\n",
       "      <th id=\"T_1ef16_level0_row15\" class=\"row_heading level0 row15\" >15</th>\n",
       "      <td id=\"T_1ef16_row15_col0\" class=\"data row15 col0\" >CPU Jobs</td>\n",
       "      <td id=\"T_1ef16_row15_col1\" class=\"data row15 col1\" >6</td>\n",
       "    </tr>\n",
       "    <tr>\n",
       "      <th id=\"T_1ef16_level0_row16\" class=\"row_heading level0 row16\" >16</th>\n",
       "      <td id=\"T_1ef16_row16_col0\" class=\"data row16 col0\" >Use GPU</td>\n",
       "      <td id=\"T_1ef16_row16_col1\" class=\"data row16 col1\" >False</td>\n",
       "    </tr>\n",
       "    <tr>\n",
       "      <th id=\"T_1ef16_level0_row17\" class=\"row_heading level0 row17\" >17</th>\n",
       "      <td id=\"T_1ef16_row17_col0\" class=\"data row17 col0\" >Log Experiment</td>\n",
       "      <td id=\"T_1ef16_row17_col1\" class=\"data row17 col1\" >False</td>\n",
       "    </tr>\n",
       "    <tr>\n",
       "      <th id=\"T_1ef16_level0_row18\" class=\"row_heading level0 row18\" >18</th>\n",
       "      <td id=\"T_1ef16_row18_col0\" class=\"data row18 col0\" >Experiment Name</td>\n",
       "      <td id=\"T_1ef16_row18_col1\" class=\"data row18 col1\" >reg-default-name</td>\n",
       "    </tr>\n",
       "    <tr>\n",
       "      <th id=\"T_1ef16_level0_row19\" class=\"row_heading level0 row19\" >19</th>\n",
       "      <td id=\"T_1ef16_row19_col0\" class=\"data row19 col0\" >USI</td>\n",
       "      <td id=\"T_1ef16_row19_col1\" class=\"data row19 col1\" >ecd9</td>\n",
       "    </tr>\n",
       "  </tbody>\n",
       "</table>\n"
      ],
      "text/plain": [
       "<pandas.io.formats.style.Styler at 0x7f3bacca7490>"
      ]
     },
     "metadata": {},
     "output_type": "display_data"
    }
   ],
   "source": [
    "regression_setup = setup(data=abt_train_01, target='dauReal', ignore_features=[\"appid\", \"date\", \"date_month\"], n_jobs=6,\n",
    "                         multicollinearity_threshold=0.7)"
   ]
  },
  {
   "cell_type": "code",
   "execution_count": 33,
   "id": "6002ae85",
   "metadata": {},
   "outputs": [
    {
     "data": {
      "text/html": [],
      "text/plain": [
       "<IPython.core.display.HTML object>"
      ]
     },
     "metadata": {},
     "output_type": "display_data"
    },
    {
     "data": {
      "text/html": [
       "<style type=\"text/css\">\n",
       "#T_2c6e1 th {\n",
       "  text-align: left;\n",
       "}\n",
       "#T_2c6e1_row0_col0, #T_2c6e1_row1_col0, #T_2c6e1_row1_col1, #T_2c6e1_row1_col2, #T_2c6e1_row1_col3, #T_2c6e1_row1_col4, #T_2c6e1_row1_col5, #T_2c6e1_row1_col6, #T_2c6e1_row2_col0, #T_2c6e1_row2_col1, #T_2c6e1_row2_col2, #T_2c6e1_row2_col3, #T_2c6e1_row2_col4, #T_2c6e1_row2_col5, #T_2c6e1_row2_col6, #T_2c6e1_row3_col0, #T_2c6e1_row3_col1, #T_2c6e1_row3_col2, #T_2c6e1_row3_col3, #T_2c6e1_row3_col4, #T_2c6e1_row3_col5, #T_2c6e1_row3_col6 {\n",
       "  text-align: left;\n",
       "}\n",
       "#T_2c6e1_row0_col1, #T_2c6e1_row0_col2, #T_2c6e1_row0_col3, #T_2c6e1_row0_col4, #T_2c6e1_row0_col5, #T_2c6e1_row0_col6 {\n",
       "  text-align: left;\n",
       "  background-color: yellow;\n",
       "}\n",
       "#T_2c6e1_row0_col7, #T_2c6e1_row1_col7, #T_2c6e1_row3_col7 {\n",
       "  text-align: left;\n",
       "  background-color: lightgrey;\n",
       "}\n",
       "#T_2c6e1_row2_col7 {\n",
       "  text-align: left;\n",
       "  background-color: yellow;\n",
       "  background-color: lightgrey;\n",
       "}\n",
       "</style>\n",
       "<table id=\"T_2c6e1\">\n",
       "  <thead>\n",
       "    <tr>\n",
       "      <th class=\"blank level0\" >&nbsp;</th>\n",
       "      <th id=\"T_2c6e1_level0_col0\" class=\"col_heading level0 col0\" >Model</th>\n",
       "      <th id=\"T_2c6e1_level0_col1\" class=\"col_heading level0 col1\" >MAE</th>\n",
       "      <th id=\"T_2c6e1_level0_col2\" class=\"col_heading level0 col2\" >MSE</th>\n",
       "      <th id=\"T_2c6e1_level0_col3\" class=\"col_heading level0 col3\" >RMSE</th>\n",
       "      <th id=\"T_2c6e1_level0_col4\" class=\"col_heading level0 col4\" >R2</th>\n",
       "      <th id=\"T_2c6e1_level0_col5\" class=\"col_heading level0 col5\" >RMSLE</th>\n",
       "      <th id=\"T_2c6e1_level0_col6\" class=\"col_heading level0 col6\" >MAPE</th>\n",
       "      <th id=\"T_2c6e1_level0_col7\" class=\"col_heading level0 col7\" >TT (Sec)</th>\n",
       "    </tr>\n",
       "  </thead>\n",
       "  <tbody>\n",
       "    <tr>\n",
       "      <th id=\"T_2c6e1_level0_row0\" class=\"row_heading level0 row0\" >rf</th>\n",
       "      <td id=\"T_2c6e1_row0_col0\" class=\"data row0 col0\" >Random Forest Regressor</td>\n",
       "      <td id=\"T_2c6e1_row0_col1\" class=\"data row0 col1\" >32858.5359</td>\n",
       "      <td id=\"T_2c6e1_row0_col2\" class=\"data row0 col2\" >28598307712.9995</td>\n",
       "      <td id=\"T_2c6e1_row0_col3\" class=\"data row0 col3\" >163739.7510</td>\n",
       "      <td id=\"T_2c6e1_row0_col4\" class=\"data row0 col4\" >0.9846</td>\n",
       "      <td id=\"T_2c6e1_row0_col5\" class=\"data row0 col5\" >0.2783</td>\n",
       "      <td id=\"T_2c6e1_row0_col6\" class=\"data row0 col6\" >0.5985</td>\n",
       "      <td id=\"T_2c6e1_row0_col7\" class=\"data row0 col7\" >1.7500</td>\n",
       "    </tr>\n",
       "    <tr>\n",
       "      <th id=\"T_2c6e1_level0_row1\" class=\"row_heading level0 row1\" >gbr</th>\n",
       "      <td id=\"T_2c6e1_row1_col0\" class=\"data row1 col0\" >Gradient Boosting Regressor</td>\n",
       "      <td id=\"T_2c6e1_row1_col1\" class=\"data row1 col1\" >75558.0736</td>\n",
       "      <td id=\"T_2c6e1_row1_col2\" class=\"data row1 col2\" >41626062282.7261</td>\n",
       "      <td id=\"T_2c6e1_row1_col3\" class=\"data row1 col3\" >199144.5596</td>\n",
       "      <td id=\"T_2c6e1_row1_col4\" class=\"data row1 col4\" >0.9776</td>\n",
       "      <td id=\"T_2c6e1_row1_col5\" class=\"data row1 col5\" >1.1279</td>\n",
       "      <td id=\"T_2c6e1_row1_col6\" class=\"data row1 col6\" >2.3957</td>\n",
       "      <td id=\"T_2c6e1_row1_col7\" class=\"data row1 col7\" >1.8260</td>\n",
       "    </tr>\n",
       "    <tr>\n",
       "      <th id=\"T_2c6e1_level0_row2\" class=\"row_heading level0 row2\" >ridge</th>\n",
       "      <td id=\"T_2c6e1_row2_col0\" class=\"data row2 col0\" >Ridge Regression</td>\n",
       "      <td id=\"T_2c6e1_row2_col1\" class=\"data row2 col1\" >227584.6596</td>\n",
       "      <td id=\"T_2c6e1_row2_col2\" class=\"data row2 col2\" >249139078230.7788</td>\n",
       "      <td id=\"T_2c6e1_row2_col3\" class=\"data row2 col3\" >496740.7671</td>\n",
       "      <td id=\"T_2c6e1_row2_col4\" class=\"data row2 col4\" >0.8640</td>\n",
       "      <td id=\"T_2c6e1_row2_col5\" class=\"data row2 col5\" >1.8053</td>\n",
       "      <td id=\"T_2c6e1_row2_col6\" class=\"data row2 col6\" >9.5711</td>\n",
       "      <td id=\"T_2c6e1_row2_col7\" class=\"data row2 col7\" >0.0230</td>\n",
       "    </tr>\n",
       "    <tr>\n",
       "      <th id=\"T_2c6e1_level0_row3\" class=\"row_heading level0 row3\" >lasso</th>\n",
       "      <td id=\"T_2c6e1_row3_col0\" class=\"data row3 col0\" >Lasso Regression</td>\n",
       "      <td id=\"T_2c6e1_row3_col1\" class=\"data row3 col1\" >227514.8180</td>\n",
       "      <td id=\"T_2c6e1_row3_col2\" class=\"data row3 col2\" >249891744513.9298</td>\n",
       "      <td id=\"T_2c6e1_row3_col3\" class=\"data row3 col3\" >497498.2892</td>\n",
       "      <td id=\"T_2c6e1_row3_col4\" class=\"data row3 col4\" >0.8636</td>\n",
       "      <td id=\"T_2c6e1_row3_col5\" class=\"data row3 col5\" >1.8077</td>\n",
       "      <td id=\"T_2c6e1_row3_col6\" class=\"data row3 col6\" >9.5123</td>\n",
       "      <td id=\"T_2c6e1_row3_col7\" class=\"data row3 col7\" >0.1020</td>\n",
       "    </tr>\n",
       "  </tbody>\n",
       "</table>\n"
      ],
      "text/plain": [
       "<pandas.io.formats.style.Styler at 0x7f3bb80ba250>"
      ]
     },
     "metadata": {},
     "output_type": "display_data"
    },
    {
     "data": {
      "text/html": [],
      "text/plain": [
       "<IPython.core.display.HTML object>"
      ]
     },
     "metadata": {},
     "output_type": "display_data"
    }
   ],
   "source": [
    "best_model = compare_models(include = ['rf', \"lasso\", \"ridge\", \"gbr\"])"
   ]
  },
  {
   "cell_type": "code",
   "execution_count": null,
   "id": "5d860045",
   "metadata": {},
   "outputs": [],
   "source": [
    "tuned_model = tune_model(best_model, n_iter=5, fold=5, optimize='MAE')"
   ]
  },
  {
   "cell_type": "code",
   "execution_count": 38,
   "id": "b7c754e6",
   "metadata": {
    "scrolled": true
   },
   "outputs": [
    {
     "data": {
      "text/html": [
       "<style>#sk-container-id-2 {color: black;background-color: white;}#sk-container-id-2 pre{padding: 0;}#sk-container-id-2 div.sk-toggleable {background-color: white;}#sk-container-id-2 label.sk-toggleable__label {cursor: pointer;display: block;width: 100%;margin-bottom: 0;padding: 0.3em;box-sizing: border-box;text-align: center;}#sk-container-id-2 label.sk-toggleable__label-arrow:before {content: \"▸\";float: left;margin-right: 0.25em;color: #696969;}#sk-container-id-2 label.sk-toggleable__label-arrow:hover:before {color: black;}#sk-container-id-2 div.sk-estimator:hover label.sk-toggleable__label-arrow:before {color: black;}#sk-container-id-2 div.sk-toggleable__content {max-height: 0;max-width: 0;overflow: hidden;text-align: left;background-color: #f0f8ff;}#sk-container-id-2 div.sk-toggleable__content pre {margin: 0.2em;color: black;border-radius: 0.25em;background-color: #f0f8ff;}#sk-container-id-2 input.sk-toggleable__control:checked~div.sk-toggleable__content {max-height: 200px;max-width: 100%;overflow: auto;}#sk-container-id-2 input.sk-toggleable__control:checked~label.sk-toggleable__label-arrow:before {content: \"▾\";}#sk-container-id-2 div.sk-estimator input.sk-toggleable__control:checked~label.sk-toggleable__label {background-color: #d4ebff;}#sk-container-id-2 div.sk-label input.sk-toggleable__control:checked~label.sk-toggleable__label {background-color: #d4ebff;}#sk-container-id-2 input.sk-hidden--visually {border: 0;clip: rect(1px 1px 1px 1px);clip: rect(1px, 1px, 1px, 1px);height: 1px;margin: -1px;overflow: hidden;padding: 0;position: absolute;width: 1px;}#sk-container-id-2 div.sk-estimator {font-family: monospace;background-color: #f0f8ff;border: 1px dotted black;border-radius: 0.25em;box-sizing: border-box;margin-bottom: 0.5em;}#sk-container-id-2 div.sk-estimator:hover {background-color: #d4ebff;}#sk-container-id-2 div.sk-parallel-item::after {content: \"\";width: 100%;border-bottom: 1px solid gray;flex-grow: 1;}#sk-container-id-2 div.sk-label:hover label.sk-toggleable__label {background-color: #d4ebff;}#sk-container-id-2 div.sk-serial::before {content: \"\";position: absolute;border-left: 1px solid gray;box-sizing: border-box;top: 0;bottom: 0;left: 50%;z-index: 0;}#sk-container-id-2 div.sk-serial {display: flex;flex-direction: column;align-items: center;background-color: white;padding-right: 0.2em;padding-left: 0.2em;position: relative;}#sk-container-id-2 div.sk-item {position: relative;z-index: 1;}#sk-container-id-2 div.sk-parallel {display: flex;align-items: stretch;justify-content: center;background-color: white;position: relative;}#sk-container-id-2 div.sk-item::before, #sk-container-id-2 div.sk-parallel-item::before {content: \"\";position: absolute;border-left: 1px solid gray;box-sizing: border-box;top: 0;bottom: 0;left: 50%;z-index: -1;}#sk-container-id-2 div.sk-parallel-item {display: flex;flex-direction: column;z-index: 1;position: relative;background-color: white;}#sk-container-id-2 div.sk-parallel-item:first-child::after {align-self: flex-end;width: 50%;}#sk-container-id-2 div.sk-parallel-item:last-child::after {align-self: flex-start;width: 50%;}#sk-container-id-2 div.sk-parallel-item:only-child::after {width: 0;}#sk-container-id-2 div.sk-dashed-wrapped {border: 1px dashed gray;margin: 0 0.4em 0.5em 0.4em;box-sizing: border-box;padding-bottom: 0.4em;background-color: white;}#sk-container-id-2 div.sk-label label {font-family: monospace;font-weight: bold;display: inline-block;line-height: 1.2em;}#sk-container-id-2 div.sk-label-container {text-align: center;}#sk-container-id-2 div.sk-container {/* jupyter's `normalize.less` sets `[hidden] { display: none; }` but bootstrap.min.css set `[hidden] { display: none !important; }` so we also need the `!important` here to be able to override the default hidden behavior on the sphinx rendered scikit-learn.org. See: https://github.com/scikit-learn/scikit-learn/issues/21755 */display: inline-block !important;position: relative;}#sk-container-id-2 div.sk-text-repr-fallback {display: none;}</style><div id=\"sk-container-id-2\" class=\"sk-top-container\"><div class=\"sk-text-repr-fallback\"><pre>RandomForestRegressor(n_jobs=6, random_state=4448)</pre><b>In a Jupyter environment, please rerun this cell to show the HTML representation or trust the notebook. <br />On GitHub, the HTML representation is unable to render, please try loading this page with nbviewer.org.</b></div><div class=\"sk-container\" hidden><div class=\"sk-item\"><div class=\"sk-estimator sk-toggleable\"><input class=\"sk-toggleable__control sk-hidden--visually\" id=\"sk-estimator-id-2\" type=\"checkbox\" checked><label for=\"sk-estimator-id-2\" class=\"sk-toggleable__label sk-toggleable__label-arrow\">RandomForestRegressor</label><div class=\"sk-toggleable__content\"><pre>RandomForestRegressor(n_jobs=6, random_state=4448)</pre></div></div></div></div></div>"
      ],
      "text/plain": [
       "RandomForestRegressor(n_jobs=6, random_state=4448)"
      ]
     },
     "execution_count": 38,
     "metadata": {},
     "output_type": "execute_result"
    }
   ],
   "source": [
    "tuned_model"
   ]
  },
  {
   "cell_type": "markdown",
   "id": "46ff0cc5",
   "metadata": {},
   "source": [
    "#### Graficos para analise do modelo"
   ]
  },
  {
   "cell_type": "code",
   "execution_count": 43,
   "id": "54d6cc0d",
   "metadata": {
    "scrolled": true
   },
   "outputs": [
    {
     "data": {
      "text/html": [],
      "text/plain": [
       "<IPython.core.display.HTML object>"
      ]
     },
     "metadata": {},
     "output_type": "display_data"
    },
    {
     "data": {
      "image/png": "[encoded data removed]",
      "text/plain": [
       "<Figure size 576x396 with 2 Axes>"
      ]
     },
     "metadata": {},
     "output_type": "display_data"
    }
   ],
   "source": [
    "plot_model(tuned_model, plot = 'residuals')"
   ]
  },
  {
   "cell_type": "code",
   "execution_count": 51,
   "id": "5c68bc76",
   "metadata": {
    "scrolled": true
   },
   "outputs": [
    {
     "data": {
      "text/html": [],
      "text/plain": [
       "<IPython.core.display.HTML object>"
      ]
     },
     "metadata": {},
     "output_type": "display_data"
    },
    {
     "data": {
      "image/png": "[encoded data removed]",
      "text/plain": [
       "<Figure size 576x396 with 1 Axes>"
      ]
     },
     "metadata": {},
     "output_type": "display_data"
    }
   ],
   "source": [
    "plot_model(tuned_model, plot='error')  "
   ]
  },
  {
   "cell_type": "markdown",
   "id": "c6dbb3bf",
   "metadata": {},
   "source": [
    "#### Avaliando o modelo comparando a performance na base de treino e de teste"
   ]
  },
  {
   "cell_type": "code",
   "execution_count": 53,
   "id": "4512b07f",
   "metadata": {},
   "outputs": [],
   "source": [
    "for i in abt_test.columns:\n",
    "    mean_value = avg_df[avg_df['index'] == i]['mean'].values\n",
    "    if len(mean_value) > 0: \n",
    "        abt_test[i] = abt_test[i].fillna(mean_value[0])"
   ]
  },
  {
   "cell_type": "code",
   "execution_count": null,
   "id": "e8aac1f8",
   "metadata": {},
   "outputs": [],
   "source": [
    "abt_test_01 = abt_test[cols_train]"
   ]
  },
  {
   "cell_type": "markdown",
   "id": "65f04b4c",
   "metadata": {},
   "source": [
    "#### Performance no treino"
   ]
  },
  {
   "cell_type": "code",
   "execution_count": 54,
   "id": "c990c93b",
   "metadata": {},
   "outputs": [
    {
     "data": {
      "text/html": [
       "<style type=\"text/css\">\n",
       "</style>\n",
       "<table id=\"T_2a3ca\">\n",
       "  <thead>\n",
       "    <tr>\n",
       "      <th class=\"blank level0\" >&nbsp;</th>\n",
       "      <th id=\"T_2a3ca_level0_col0\" class=\"col_heading level0 col0\" >Model</th>\n",
       "      <th id=\"T_2a3ca_level0_col1\" class=\"col_heading level0 col1\" >MAE</th>\n",
       "      <th id=\"T_2a3ca_level0_col2\" class=\"col_heading level0 col2\" >MSE</th>\n",
       "      <th id=\"T_2a3ca_level0_col3\" class=\"col_heading level0 col3\" >RMSE</th>\n",
       "      <th id=\"T_2a3ca_level0_col4\" class=\"col_heading level0 col4\" >R2</th>\n",
       "      <th id=\"T_2a3ca_level0_col5\" class=\"col_heading level0 col5\" >RMSLE</th>\n",
       "      <th id=\"T_2a3ca_level0_col6\" class=\"col_heading level0 col6\" >MAPE</th>\n",
       "    </tr>\n",
       "  </thead>\n",
       "  <tbody>\n",
       "    <tr>\n",
       "      <th id=\"T_2a3ca_level0_row0\" class=\"row_heading level0 row0\" >0</th>\n",
       "      <td id=\"T_2a3ca_row0_col0\" class=\"data row0 col0\" >Random Forest Regressor</td>\n",
       "      <td id=\"T_2a3ca_row0_col1\" class=\"data row0 col1\" >17558.9668</td>\n",
       "      <td id=\"T_2a3ca_row0_col2\" class=\"data row0 col2\" >7908807610.8809</td>\n",
       "      <td id=\"T_2a3ca_row0_col3\" class=\"data row0 col3\" >88931.4771</td>\n",
       "      <td id=\"T_2a3ca_row0_col4\" class=\"data row0 col4\" >0.9957</td>\n",
       "      <td id=\"T_2a3ca_row0_col5\" class=\"data row0 col5\" >0.2143</td>\n",
       "      <td id=\"T_2a3ca_row0_col6\" class=\"data row0 col6\" >0.2855</td>\n",
       "    </tr>\n",
       "  </tbody>\n",
       "</table>\n"
      ],
      "text/plain": [
       "<pandas.io.formats.style.Styler at 0x7f3bb856d9d0>"
      ]
     },
     "metadata": {},
     "output_type": "display_data"
    }
   ],
   "source": [
    "scored_train = predict_model(tuned_model, data=abt_train_01)"
   ]
  },
  {
   "cell_type": "markdown",
   "id": "b00ee44e",
   "metadata": {},
   "source": [
    "#### Performance no teste"
   ]
  },
  {
   "cell_type": "code",
   "execution_count": 55,
   "id": "8ab53292",
   "metadata": {
    "scrolled": false
   },
   "outputs": [
    {
     "data": {
      "text/html": [
       "<style type=\"text/css\">\n",
       "</style>\n",
       "<table id=\"T_3be46\">\n",
       "  <thead>\n",
       "    <tr>\n",
       "      <th class=\"blank level0\" >&nbsp;</th>\n",
       "      <th id=\"T_3be46_level0_col0\" class=\"col_heading level0 col0\" >Model</th>\n",
       "      <th id=\"T_3be46_level0_col1\" class=\"col_heading level0 col1\" >MAE</th>\n",
       "      <th id=\"T_3be46_level0_col2\" class=\"col_heading level0 col2\" >MSE</th>\n",
       "      <th id=\"T_3be46_level0_col3\" class=\"col_heading level0 col3\" >RMSE</th>\n",
       "      <th id=\"T_3be46_level0_col4\" class=\"col_heading level0 col4\" >R2</th>\n",
       "      <th id=\"T_3be46_level0_col5\" class=\"col_heading level0 col5\" >RMSLE</th>\n",
       "      <th id=\"T_3be46_level0_col6\" class=\"col_heading level0 col6\" >MAPE</th>\n",
       "    </tr>\n",
       "  </thead>\n",
       "  <tbody>\n",
       "    <tr>\n",
       "      <th id=\"T_3be46_level0_row0\" class=\"row_heading level0 row0\" >0</th>\n",
       "      <td id=\"T_3be46_row0_col0\" class=\"data row0 col0\" >Random Forest Regressor</td>\n",
       "      <td id=\"T_3be46_row0_col1\" class=\"data row0 col1\" >52575.8134</td>\n",
       "      <td id=\"T_3be46_row0_col2\" class=\"data row0 col2\" >27606001230.3848</td>\n",
       "      <td id=\"T_3be46_row0_col3\" class=\"data row0 col3\" >166150.5379</td>\n",
       "      <td id=\"T_3be46_row0_col4\" class=\"data row0 col4\" >0.9859</td>\n",
       "      <td id=\"T_3be46_row0_col5\" class=\"data row0 col5\" >0.5904</td>\n",
       "      <td id=\"T_3be46_row0_col6\" class=\"data row0 col6\" >0.9385</td>\n",
       "    </tr>\n",
       "  </tbody>\n",
       "</table>\n"
      ],
      "text/plain": [
       "<pandas.io.formats.style.Styler at 0x7f3bb8621bb0>"
      ]
     },
     "metadata": {},
     "output_type": "display_data"
    }
   ],
   "source": [
    "scored_test = predict_model(tuned_model, data=abt_test_01)"
   ]
  },
  {
   "cell_type": "markdown",
   "id": "3e4201a9",
   "metadata": {},
   "source": [
    "#### Uma analise que achei interessante foi comparar a performace do modelo agrupado pelas categorias. Um dos testes interessante é treinar um modelo separado para as categorias com maiores erros na base de teste pois pode indicar que o publico é diferente dos demais."
   ]
  },
  {
   "cell_type": "code",
   "execution_count": 66,
   "id": "6e4d7fb1",
   "metadata": {},
   "outputs": [],
   "source": [
    "dict_ = {1:\"FINANCE\", 2: \"OTHERS\", 3: \"SHOPPING\", 4:\"BUSINESS\", 5:\"TRAVEL_AND_LOCAL\", 6:\"FOOD_AND_DRINK\"}"
   ]
  },
  {
   "cell_type": "code",
   "execution_count": 77,
   "id": "73cdda51",
   "metadata": {},
   "outputs": [
    {
     "name": "stdout",
     "output_type": "stream",
     "text": [
      "metricas do treino filtrado para a categoria:  FINANCE\n"
     ]
    },
    {
     "data": {
      "text/html": [
       "<style type=\"text/css\">\n",
       "</style>\n",
       "<table id=\"T_2a6d1\">\n",
       "  <thead>\n",
       "    <tr>\n",
       "      <th class=\"blank level0\" >&nbsp;</th>\n",
       "      <th id=\"T_2a6d1_level0_col0\" class=\"col_heading level0 col0\" >Model</th>\n",
       "      <th id=\"T_2a6d1_level0_col1\" class=\"col_heading level0 col1\" >MAE</th>\n",
       "      <th id=\"T_2a6d1_level0_col2\" class=\"col_heading level0 col2\" >MSE</th>\n",
       "      <th id=\"T_2a6d1_level0_col3\" class=\"col_heading level0 col3\" >RMSE</th>\n",
       "      <th id=\"T_2a6d1_level0_col4\" class=\"col_heading level0 col4\" >R2</th>\n",
       "      <th id=\"T_2a6d1_level0_col5\" class=\"col_heading level0 col5\" >RMSLE</th>\n",
       "      <th id=\"T_2a6d1_level0_col6\" class=\"col_heading level0 col6\" >MAPE</th>\n",
       "    </tr>\n",
       "  </thead>\n",
       "  <tbody>\n",
       "    <tr>\n",
       "      <th id=\"T_2a6d1_level0_row0\" class=\"row_heading level0 row0\" >0</th>\n",
       "      <td id=\"T_2a6d1_row0_col0\" class=\"data row0 col0\" >Random Forest Regressor</td>\n",
       "      <td id=\"T_2a6d1_row0_col1\" class=\"data row0 col1\" >24601.3739</td>\n",
       "      <td id=\"T_2a6d1_row0_col2\" class=\"data row0 col2\" >12732725832.6447</td>\n",
       "      <td id=\"T_2a6d1_row0_col3\" class=\"data row0 col3\" >112839.3807</td>\n",
       "      <td id=\"T_2a6d1_row0_col4\" class=\"data row0 col4\" >0.9961</td>\n",
       "      <td id=\"T_2a6d1_row0_col5\" class=\"data row0 col5\" >0.1998</td>\n",
       "      <td id=\"T_2a6d1_row0_col6\" class=\"data row0 col6\" >0.2201</td>\n",
       "    </tr>\n",
       "  </tbody>\n",
       "</table>\n"
      ],
      "text/plain": [
       "<pandas.io.formats.style.Styler at 0x7f3b365bec70>"
      ]
     },
     "metadata": {},
     "output_type": "display_data"
    },
    {
     "data": {
      "text/html": [
       "<style type=\"text/css\">\n",
       "</style>\n",
       "<table id=\"T_bf03a\">\n",
       "  <thead>\n",
       "    <tr>\n",
       "      <th class=\"blank level0\" >&nbsp;</th>\n",
       "      <th id=\"T_bf03a_level0_col0\" class=\"col_heading level0 col0\" >Model</th>\n",
       "      <th id=\"T_bf03a_level0_col1\" class=\"col_heading level0 col1\" >MAE</th>\n",
       "      <th id=\"T_bf03a_level0_col2\" class=\"col_heading level0 col2\" >MSE</th>\n",
       "      <th id=\"T_bf03a_level0_col3\" class=\"col_heading level0 col3\" >RMSE</th>\n",
       "      <th id=\"T_bf03a_level0_col4\" class=\"col_heading level0 col4\" >R2</th>\n",
       "      <th id=\"T_bf03a_level0_col5\" class=\"col_heading level0 col5\" >RMSLE</th>\n",
       "      <th id=\"T_bf03a_level0_col6\" class=\"col_heading level0 col6\" >MAPE</th>\n",
       "    </tr>\n",
       "  </thead>\n",
       "  <tbody>\n",
       "    <tr>\n",
       "      <th id=\"T_bf03a_level0_row0\" class=\"row_heading level0 row0\" >0</th>\n",
       "      <td id=\"T_bf03a_row0_col0\" class=\"data row0 col0\" >Random Forest Regressor</td>\n",
       "      <td id=\"T_bf03a_row0_col1\" class=\"data row0 col1\" >82845.2160</td>\n",
       "      <td id=\"T_bf03a_row0_col2\" class=\"data row0 col2\" >58941421654.1429</td>\n",
       "      <td id=\"T_bf03a_row0_col3\" class=\"data row0 col3\" >242778.5445</td>\n",
       "      <td id=\"T_bf03a_row0_col4\" class=\"data row0 col4\" >0.9833</td>\n",
       "      <td id=\"T_bf03a_row0_col5\" class=\"data row0 col5\" >0.3658</td>\n",
       "      <td id=\"T_bf03a_row0_col6\" class=\"data row0 col6\" >0.2867</td>\n",
       "    </tr>\n",
       "  </tbody>\n",
       "</table>\n"
      ],
      "text/plain": [
       "<pandas.io.formats.style.Styler at 0x7f3b35e84760>"
      ]
     },
     "metadata": {},
     "output_type": "display_data"
    },
    {
     "name": "stdout",
     "output_type": "stream",
     "text": [
      "\n",
      "metricas do treino filtrado para a categoria:  OTHERS\n"
     ]
    },
    {
     "data": {
      "text/html": [
       "<style type=\"text/css\">\n",
       "</style>\n",
       "<table id=\"T_20bb8\">\n",
       "  <thead>\n",
       "    <tr>\n",
       "      <th class=\"blank level0\" >&nbsp;</th>\n",
       "      <th id=\"T_20bb8_level0_col0\" class=\"col_heading level0 col0\" >Model</th>\n",
       "      <th id=\"T_20bb8_level0_col1\" class=\"col_heading level0 col1\" >MAE</th>\n",
       "      <th id=\"T_20bb8_level0_col2\" class=\"col_heading level0 col2\" >MSE</th>\n",
       "      <th id=\"T_20bb8_level0_col3\" class=\"col_heading level0 col3\" >RMSE</th>\n",
       "      <th id=\"T_20bb8_level0_col4\" class=\"col_heading level0 col4\" >R2</th>\n",
       "      <th id=\"T_20bb8_level0_col5\" class=\"col_heading level0 col5\" >RMSLE</th>\n",
       "      <th id=\"T_20bb8_level0_col6\" class=\"col_heading level0 col6\" >MAPE</th>\n",
       "    </tr>\n",
       "  </thead>\n",
       "  <tbody>\n",
       "    <tr>\n",
       "      <th id=\"T_20bb8_level0_row0\" class=\"row_heading level0 row0\" >0</th>\n",
       "      <td id=\"T_20bb8_row0_col0\" class=\"data row0 col0\" >Random Forest Regressor</td>\n",
       "      <td id=\"T_20bb8_row0_col1\" class=\"data row0 col1\" >20388.8326</td>\n",
       "      <td id=\"T_20bb8_row0_col2\" class=\"data row0 col2\" >8432373084.3528</td>\n",
       "      <td id=\"T_20bb8_row0_col3\" class=\"data row0 col3\" >91827.9537</td>\n",
       "      <td id=\"T_20bb8_row0_col4\" class=\"data row0 col4\" >0.9952</td>\n",
       "      <td id=\"T_20bb8_row0_col5\" class=\"data row0 col5\" >0.3101</td>\n",
       "      <td id=\"T_20bb8_row0_col6\" class=\"data row0 col6\" >0.7117</td>\n",
       "    </tr>\n",
       "  </tbody>\n",
       "</table>\n"
      ],
      "text/plain": [
       "<pandas.io.formats.style.Styler at 0x7f3b35e7df40>"
      ]
     },
     "metadata": {},
     "output_type": "display_data"
    },
    {
     "data": {
      "text/html": [
       "<style type=\"text/css\">\n",
       "</style>\n",
       "<table id=\"T_1f3f5\">\n",
       "  <thead>\n",
       "    <tr>\n",
       "      <th class=\"blank level0\" >&nbsp;</th>\n",
       "      <th id=\"T_1f3f5_level0_col0\" class=\"col_heading level0 col0\" >Model</th>\n",
       "      <th id=\"T_1f3f5_level0_col1\" class=\"col_heading level0 col1\" >MAE</th>\n",
       "      <th id=\"T_1f3f5_level0_col2\" class=\"col_heading level0 col2\" >MSE</th>\n",
       "      <th id=\"T_1f3f5_level0_col3\" class=\"col_heading level0 col3\" >RMSE</th>\n",
       "      <th id=\"T_1f3f5_level0_col4\" class=\"col_heading level0 col4\" >R2</th>\n",
       "      <th id=\"T_1f3f5_level0_col5\" class=\"col_heading level0 col5\" >RMSLE</th>\n",
       "      <th id=\"T_1f3f5_level0_col6\" class=\"col_heading level0 col6\" >MAPE</th>\n",
       "    </tr>\n",
       "  </thead>\n",
       "  <tbody>\n",
       "    <tr>\n",
       "      <th id=\"T_1f3f5_level0_row0\" class=\"row_heading level0 row0\" >0</th>\n",
       "      <td id=\"T_1f3f5_row0_col0\" class=\"data row0 col0\" >Random Forest Regressor</td>\n",
       "      <td id=\"T_1f3f5_row0_col1\" class=\"data row0 col1\" >50189.0026</td>\n",
       "      <td id=\"T_1f3f5_row0_col2\" class=\"data row0 col2\" >13565907149.4935</td>\n",
       "      <td id=\"T_1f3f5_row0_col3\" class=\"data row0 col3\" >116472.7743</td>\n",
       "      <td id=\"T_1f3f5_row0_col4\" class=\"data row0 col4\" >0.9928</td>\n",
       "      <td id=\"T_1f3f5_row0_col5\" class=\"data row0 col5\" >0.8869</td>\n",
       "      <td id=\"T_1f3f5_row0_col6\" class=\"data row0 col6\" >2.4929</td>\n",
       "    </tr>\n",
       "  </tbody>\n",
       "</table>\n"
      ],
      "text/plain": [
       "<pandas.io.formats.style.Styler at 0x7f3b365b1ee0>"
      ]
     },
     "metadata": {},
     "output_type": "display_data"
    },
    {
     "name": "stdout",
     "output_type": "stream",
     "text": [
      "\n",
      "metricas do treino filtrado para a categoria:  SHOPPING\n"
     ]
    },
    {
     "data": {
      "text/html": [
       "<style type=\"text/css\">\n",
       "</style>\n",
       "<table id=\"T_44a92\">\n",
       "  <thead>\n",
       "    <tr>\n",
       "      <th class=\"blank level0\" >&nbsp;</th>\n",
       "      <th id=\"T_44a92_level0_col0\" class=\"col_heading level0 col0\" >Model</th>\n",
       "      <th id=\"T_44a92_level0_col1\" class=\"col_heading level0 col1\" >MAE</th>\n",
       "      <th id=\"T_44a92_level0_col2\" class=\"col_heading level0 col2\" >MSE</th>\n",
       "      <th id=\"T_44a92_level0_col3\" class=\"col_heading level0 col3\" >RMSE</th>\n",
       "      <th id=\"T_44a92_level0_col4\" class=\"col_heading level0 col4\" >R2</th>\n",
       "      <th id=\"T_44a92_level0_col5\" class=\"col_heading level0 col5\" >RMSLE</th>\n",
       "      <th id=\"T_44a92_level0_col6\" class=\"col_heading level0 col6\" >MAPE</th>\n",
       "    </tr>\n",
       "  </thead>\n",
       "  <tbody>\n",
       "    <tr>\n",
       "      <th id=\"T_44a92_level0_row0\" class=\"row_heading level0 row0\" >0</th>\n",
       "      <td id=\"T_44a92_row0_col0\" class=\"data row0 col0\" >Random Forest Regressor</td>\n",
       "      <td id=\"T_44a92_row0_col1\" class=\"data row0 col1\" >8595.4783</td>\n",
       "      <td id=\"T_44a92_row0_col2\" class=\"data row0 col2\" >3513335965.3040</td>\n",
       "      <td id=\"T_44a92_row0_col3\" class=\"data row0 col3\" >59273.4001</td>\n",
       "      <td id=\"T_44a92_row0_col4\" class=\"data row0 col4\" >0.9905</td>\n",
       "      <td id=\"T_44a92_row0_col5\" class=\"data row0 col5\" >0.1295</td>\n",
       "      <td id=\"T_44a92_row0_col6\" class=\"data row0 col6\" >0.0735</td>\n",
       "    </tr>\n",
       "  </tbody>\n",
       "</table>\n"
      ],
      "text/plain": [
       "<pandas.io.formats.style.Styler at 0x7f3b35e98640>"
      ]
     },
     "metadata": {},
     "output_type": "display_data"
    },
    {
     "data": {
      "text/html": [
       "<style type=\"text/css\">\n",
       "</style>\n",
       "<table id=\"T_e3612\">\n",
       "  <thead>\n",
       "    <tr>\n",
       "      <th class=\"blank level0\" >&nbsp;</th>\n",
       "      <th id=\"T_e3612_level0_col0\" class=\"col_heading level0 col0\" >Model</th>\n",
       "      <th id=\"T_e3612_level0_col1\" class=\"col_heading level0 col1\" >MAE</th>\n",
       "      <th id=\"T_e3612_level0_col2\" class=\"col_heading level0 col2\" >MSE</th>\n",
       "      <th id=\"T_e3612_level0_col3\" class=\"col_heading level0 col3\" >RMSE</th>\n",
       "      <th id=\"T_e3612_level0_col4\" class=\"col_heading level0 col4\" >R2</th>\n",
       "      <th id=\"T_e3612_level0_col5\" class=\"col_heading level0 col5\" >RMSLE</th>\n",
       "      <th id=\"T_e3612_level0_col6\" class=\"col_heading level0 col6\" >MAPE</th>\n",
       "    </tr>\n",
       "  </thead>\n",
       "  <tbody>\n",
       "    <tr>\n",
       "      <th id=\"T_e3612_level0_row0\" class=\"row_heading level0 row0\" >0</th>\n",
       "      <td id=\"T_e3612_row0_col0\" class=\"data row0 col0\" >Random Forest Regressor</td>\n",
       "      <td id=\"T_e3612_row0_col1\" class=\"data row0 col1\" >15363.3590</td>\n",
       "      <td id=\"T_e3612_row0_col2\" class=\"data row0 col2\" >1118338951.5677</td>\n",
       "      <td id=\"T_e3612_row0_col3\" class=\"data row0 col3\" >33441.5752</td>\n",
       "      <td id=\"T_e3612_row0_col4\" class=\"data row0 col4\" >0.9946</td>\n",
       "      <td id=\"T_e3612_row0_col5\" class=\"data row0 col5\" >0.2677</td>\n",
       "      <td id=\"T_e3612_row0_col6\" class=\"data row0 col6\" >0.1908</td>\n",
       "    </tr>\n",
       "  </tbody>\n",
       "</table>\n"
      ],
      "text/plain": [
       "<pandas.io.formats.style.Styler at 0x7f3b35ee5610>"
      ]
     },
     "metadata": {},
     "output_type": "display_data"
    },
    {
     "name": "stdout",
     "output_type": "stream",
     "text": [
      "\n",
      "metricas do treino filtrado para a categoria:  BUSINESS\n"
     ]
    },
    {
     "data": {
      "text/html": [
       "<style type=\"text/css\">\n",
       "</style>\n",
       "<table id=\"T_f5ee5\">\n",
       "  <thead>\n",
       "    <tr>\n",
       "      <th class=\"blank level0\" >&nbsp;</th>\n",
       "      <th id=\"T_f5ee5_level0_col0\" class=\"col_heading level0 col0\" >Model</th>\n",
       "      <th id=\"T_f5ee5_level0_col1\" class=\"col_heading level0 col1\" >MAE</th>\n",
       "      <th id=\"T_f5ee5_level0_col2\" class=\"col_heading level0 col2\" >MSE</th>\n",
       "      <th id=\"T_f5ee5_level0_col3\" class=\"col_heading level0 col3\" >RMSE</th>\n",
       "      <th id=\"T_f5ee5_level0_col4\" class=\"col_heading level0 col4\" >R2</th>\n",
       "      <th id=\"T_f5ee5_level0_col5\" class=\"col_heading level0 col5\" >RMSLE</th>\n",
       "      <th id=\"T_f5ee5_level0_col6\" class=\"col_heading level0 col6\" >MAPE</th>\n",
       "    </tr>\n",
       "  </thead>\n",
       "  <tbody>\n",
       "    <tr>\n",
       "      <th id=\"T_f5ee5_level0_row0\" class=\"row_heading level0 row0\" >0</th>\n",
       "      <td id=\"T_f5ee5_row0_col0\" class=\"data row0 col0\" >Random Forest Regressor</td>\n",
       "      <td id=\"T_f5ee5_row0_col1\" class=\"data row0 col1\" >8770.8388</td>\n",
       "      <td id=\"T_f5ee5_row0_col2\" class=\"data row0 col2\" >769705950.6897</td>\n",
       "      <td id=\"T_f5ee5_row0_col3\" class=\"data row0 col3\" >27743.5749</td>\n",
       "      <td id=\"T_f5ee5_row0_col4\" class=\"data row0 col4\" >0.9947</td>\n",
       "      <td id=\"T_f5ee5_row0_col5\" class=\"data row0 col5\" >0.1826</td>\n",
       "      <td id=\"T_f5ee5_row0_col6\" class=\"data row0 col6\" >0.1096</td>\n",
       "    </tr>\n",
       "  </tbody>\n",
       "</table>\n"
      ],
      "text/plain": [
       "<pandas.io.formats.style.Styler at 0x7f3baba20340>"
      ]
     },
     "metadata": {},
     "output_type": "display_data"
    },
    {
     "data": {
      "text/html": [
       "<style type=\"text/css\">\n",
       "</style>\n",
       "<table id=\"T_9f444\">\n",
       "  <thead>\n",
       "    <tr>\n",
       "      <th class=\"blank level0\" >&nbsp;</th>\n",
       "      <th id=\"T_9f444_level0_col0\" class=\"col_heading level0 col0\" >Model</th>\n",
       "      <th id=\"T_9f444_level0_col1\" class=\"col_heading level0 col1\" >MAE</th>\n",
       "      <th id=\"T_9f444_level0_col2\" class=\"col_heading level0 col2\" >MSE</th>\n",
       "      <th id=\"T_9f444_level0_col3\" class=\"col_heading level0 col3\" >RMSE</th>\n",
       "      <th id=\"T_9f444_level0_col4\" class=\"col_heading level0 col4\" >R2</th>\n",
       "      <th id=\"T_9f444_level0_col5\" class=\"col_heading level0 col5\" >RMSLE</th>\n",
       "      <th id=\"T_9f444_level0_col6\" class=\"col_heading level0 col6\" >MAPE</th>\n",
       "    </tr>\n",
       "  </thead>\n",
       "  <tbody>\n",
       "    <tr>\n",
       "      <th id=\"T_9f444_level0_row0\" class=\"row_heading level0 row0\" >0</th>\n",
       "      <td id=\"T_9f444_row0_col0\" class=\"data row0 col0\" >Random Forest Regressor</td>\n",
       "      <td id=\"T_9f444_row0_col1\" class=\"data row0 col1\" >32874.2519</td>\n",
       "      <td id=\"T_9f444_row0_col2\" class=\"data row0 col2\" >6976587558.4222</td>\n",
       "      <td id=\"T_9f444_row0_col3\" class=\"data row0 col3\" >83525.9694</td>\n",
       "      <td id=\"T_9f444_row0_col4\" class=\"data row0 col4\" >0.9552</td>\n",
       "      <td id=\"T_9f444_row0_col5\" class=\"data row0 col5\" >0.5873</td>\n",
       "      <td id=\"T_9f444_row0_col6\" class=\"data row0 col6\" >0.9244</td>\n",
       "    </tr>\n",
       "  </tbody>\n",
       "</table>\n"
      ],
      "text/plain": [
       "<pandas.io.formats.style.Styler at 0x7f3b35ec6070>"
      ]
     },
     "metadata": {},
     "output_type": "display_data"
    },
    {
     "name": "stdout",
     "output_type": "stream",
     "text": [
      "\n",
      "metricas do treino filtrado para a categoria:  TRAVEL_AND_LOCAL\n"
     ]
    },
    {
     "data": {
      "text/html": [
       "<style type=\"text/css\">\n",
       "</style>\n",
       "<table id=\"T_d6567\">\n",
       "  <thead>\n",
       "    <tr>\n",
       "      <th class=\"blank level0\" >&nbsp;</th>\n",
       "      <th id=\"T_d6567_level0_col0\" class=\"col_heading level0 col0\" >Model</th>\n",
       "      <th id=\"T_d6567_level0_col1\" class=\"col_heading level0 col1\" >MAE</th>\n",
       "      <th id=\"T_d6567_level0_col2\" class=\"col_heading level0 col2\" >MSE</th>\n",
       "      <th id=\"T_d6567_level0_col3\" class=\"col_heading level0 col3\" >RMSE</th>\n",
       "      <th id=\"T_d6567_level0_col4\" class=\"col_heading level0 col4\" >R2</th>\n",
       "      <th id=\"T_d6567_level0_col5\" class=\"col_heading level0 col5\" >RMSLE</th>\n",
       "      <th id=\"T_d6567_level0_col6\" class=\"col_heading level0 col6\" >MAPE</th>\n",
       "    </tr>\n",
       "  </thead>\n",
       "  <tbody>\n",
       "    <tr>\n",
       "      <th id=\"T_d6567_level0_row0\" class=\"row_heading level0 row0\" >0</th>\n",
       "      <td id=\"T_d6567_row0_col0\" class=\"data row0 col0\" >Random Forest Regressor</td>\n",
       "      <td id=\"T_d6567_row0_col1\" class=\"data row0 col1\" >1382.0393</td>\n",
       "      <td id=\"T_d6567_row0_col2\" class=\"data row0 col2\" >28902745.4248</td>\n",
       "      <td id=\"T_d6567_row0_col3\" class=\"data row0 col3\" >5376.1274</td>\n",
       "      <td id=\"T_d6567_row0_col4\" class=\"data row0 col4\" >0.9848</td>\n",
       "      <td id=\"T_d6567_row0_col5\" class=\"data row0 col5\" >0.0926</td>\n",
       "      <td id=\"T_d6567_row0_col6\" class=\"data row0 col6\" >0.0508</td>\n",
       "    </tr>\n",
       "  </tbody>\n",
       "</table>\n"
      ],
      "text/plain": [
       "<pandas.io.formats.style.Styler at 0x7f3b36300250>"
      ]
     },
     "metadata": {},
     "output_type": "display_data"
    },
    {
     "data": {
      "text/html": [
       "<style type=\"text/css\">\n",
       "</style>\n",
       "<table id=\"T_181fb\">\n",
       "  <thead>\n",
       "    <tr>\n",
       "      <th class=\"blank level0\" >&nbsp;</th>\n",
       "      <th id=\"T_181fb_level0_col0\" class=\"col_heading level0 col0\" >Model</th>\n",
       "      <th id=\"T_181fb_level0_col1\" class=\"col_heading level0 col1\" >MAE</th>\n",
       "      <th id=\"T_181fb_level0_col2\" class=\"col_heading level0 col2\" >MSE</th>\n",
       "      <th id=\"T_181fb_level0_col3\" class=\"col_heading level0 col3\" >RMSE</th>\n",
       "      <th id=\"T_181fb_level0_col4\" class=\"col_heading level0 col4\" >R2</th>\n",
       "      <th id=\"T_181fb_level0_col5\" class=\"col_heading level0 col5\" >RMSLE</th>\n",
       "      <th id=\"T_181fb_level0_col6\" class=\"col_heading level0 col6\" >MAPE</th>\n",
       "    </tr>\n",
       "  </thead>\n",
       "  <tbody>\n",
       "    <tr>\n",
       "      <th id=\"T_181fb_level0_row0\" class=\"row_heading level0 row0\" >0</th>\n",
       "      <td id=\"T_181fb_row0_col0\" class=\"data row0 col0\" >Random Forest Regressor</td>\n",
       "      <td id=\"T_181fb_row0_col1\" class=\"data row0 col1\" >16097.5828</td>\n",
       "      <td id=\"T_181fb_row0_col2\" class=\"data row0 col2\" >1381940316.2230</td>\n",
       "      <td id=\"T_181fb_row0_col3\" class=\"data row0 col3\" >37174.4578</td>\n",
       "      <td id=\"T_181fb_row0_col4\" class=\"data row0 col4\" >0.2835</td>\n",
       "      <td id=\"T_181fb_row0_col5\" class=\"data row0 col5\" >0.9927</td>\n",
       "      <td id=\"T_181fb_row0_col6\" class=\"data row0 col6\" >1.8066</td>\n",
       "    </tr>\n",
       "  </tbody>\n",
       "</table>\n"
      ],
      "text/plain": [
       "<pandas.io.formats.style.Styler at 0x7f3b365be610>"
      ]
     },
     "metadata": {},
     "output_type": "display_data"
    },
    {
     "name": "stdout",
     "output_type": "stream",
     "text": [
      "\n",
      "metricas do treino filtrado para a categoria:  FOOD_AND_DRINK\n"
     ]
    },
    {
     "data": {
      "text/html": [
       "<style type=\"text/css\">\n",
       "</style>\n",
       "<table id=\"T_e302c\">\n",
       "  <thead>\n",
       "    <tr>\n",
       "      <th class=\"blank level0\" >&nbsp;</th>\n",
       "      <th id=\"T_e302c_level0_col0\" class=\"col_heading level0 col0\" >Model</th>\n",
       "      <th id=\"T_e302c_level0_col1\" class=\"col_heading level0 col1\" >MAE</th>\n",
       "      <th id=\"T_e302c_level0_col2\" class=\"col_heading level0 col2\" >MSE</th>\n",
       "      <th id=\"T_e302c_level0_col3\" class=\"col_heading level0 col3\" >RMSE</th>\n",
       "      <th id=\"T_e302c_level0_col4\" class=\"col_heading level0 col4\" >R2</th>\n",
       "      <th id=\"T_e302c_level0_col5\" class=\"col_heading level0 col5\" >RMSLE</th>\n",
       "      <th id=\"T_e302c_level0_col6\" class=\"col_heading level0 col6\" >MAPE</th>\n",
       "    </tr>\n",
       "  </thead>\n",
       "  <tbody>\n",
       "    <tr>\n",
       "      <th id=\"T_e302c_level0_row0\" class=\"row_heading level0 row0\" >0</th>\n",
       "      <td id=\"T_e302c_row0_col0\" class=\"data row0 col0\" >Random Forest Regressor</td>\n",
       "      <td id=\"T_e302c_row0_col1\" class=\"data row0 col1\" >16655.1420</td>\n",
       "      <td id=\"T_e302c_row0_col2\" class=\"data row0 col2\" >4728991238.6787</td>\n",
       "      <td id=\"T_e302c_row0_col3\" class=\"data row0 col3\" >68767.6613</td>\n",
       "      <td id=\"T_e302c_row0_col4\" class=\"data row0 col4\" >0.9674</td>\n",
       "      <td id=\"T_e302c_row0_col5\" class=\"data row0 col5\" >0.1388</td>\n",
       "      <td id=\"T_e302c_row0_col6\" class=\"data row0 col6\" >0.0765</td>\n",
       "    </tr>\n",
       "  </tbody>\n",
       "</table>\n"
      ],
      "text/plain": [
       "<pandas.io.formats.style.Styler at 0x7f3b35ee52e0>"
      ]
     },
     "metadata": {},
     "output_type": "display_data"
    },
    {
     "data": {
      "text/html": [
       "<style type=\"text/css\">\n",
       "</style>\n",
       "<table id=\"T_454a3\">\n",
       "  <thead>\n",
       "    <tr>\n",
       "      <th class=\"blank level0\" >&nbsp;</th>\n",
       "      <th id=\"T_454a3_level0_col0\" class=\"col_heading level0 col0\" >Model</th>\n",
       "      <th id=\"T_454a3_level0_col1\" class=\"col_heading level0 col1\" >MAE</th>\n",
       "      <th id=\"T_454a3_level0_col2\" class=\"col_heading level0 col2\" >MSE</th>\n",
       "      <th id=\"T_454a3_level0_col3\" class=\"col_heading level0 col3\" >RMSE</th>\n",
       "      <th id=\"T_454a3_level0_col4\" class=\"col_heading level0 col4\" >R2</th>\n",
       "      <th id=\"T_454a3_level0_col5\" class=\"col_heading level0 col5\" >RMSLE</th>\n",
       "      <th id=\"T_454a3_level0_col6\" class=\"col_heading level0 col6\" >MAPE</th>\n",
       "    </tr>\n",
       "  </thead>\n",
       "  <tbody>\n",
       "    <tr>\n",
       "      <th id=\"T_454a3_level0_row0\" class=\"row_heading level0 row0\" >0</th>\n",
       "      <td id=\"T_454a3_row0_col0\" class=\"data row0 col0\" >Random Forest Regressor</td>\n",
       "      <td id=\"T_454a3_row0_col1\" class=\"data row0 col1\" >39221.6939</td>\n",
       "      <td id=\"T_454a3_row0_col2\" class=\"data row0 col2\" >4177723238.6871</td>\n",
       "      <td id=\"T_454a3_row0_col3\" class=\"data row0 col3\" >64635.3095</td>\n",
       "      <td id=\"T_454a3_row0_col4\" class=\"data row0 col4\" >0.9634</td>\n",
       "      <td id=\"T_454a3_row0_col5\" class=\"data row0 col5\" >0.1351</td>\n",
       "      <td id=\"T_454a3_row0_col6\" class=\"data row0 col6\" >0.1175</td>\n",
       "    </tr>\n",
       "  </tbody>\n",
       "</table>\n"
      ],
      "text/plain": [
       "<pandas.io.formats.style.Styler at 0x7f3b35e83910>"
      ]
     },
     "metadata": {},
     "output_type": "display_data"
    },
    {
     "name": "stdout",
     "output_type": "stream",
     "text": [
      "\n"
     ]
    }
   ],
   "source": [
    "for i in abt_train_01['category_flag'].value_counts().index:\n",
    "    abt_test_02 = abt_test_01[abt_test_01['category_flag'] == i]\n",
    "    abt_train_02 = abt_train_01[abt_train_01['category_flag'] == i]\n",
    "    \n",
    "    print(\"metricas do treino filtrado para a categoria: \", dict_[i])\n",
    "    scored_train_temp = predict_model(tuned_model, data=abt_train_02)\n",
    "    \n",
    "    scored_test_temp = predict_model(tuned_model, data=abt_test_02)\n",
    "    print()"
   ]
  },
  {
   "cell_type": "markdown",
   "id": "b9333d19",
   "metadata": {},
   "source": [
    "#### Salvando e lendoo modelo"
   ]
  },
  {
   "cell_type": "code",
   "execution_count": 88,
   "id": "c0ae96b1",
   "metadata": {},
   "outputs": [
    {
     "name": "stdout",
     "output_type": "stream",
     "text": [
      "Transformation Pipeline and Model Successfully Saved\n"
     ]
    },
    {
     "data": {
      "text/plain": [
       "(Pipeline(memory=Memory(location=None),\n",
       "          steps=[('numerical_imputer',\n",
       "                  TransformerWrapper(include=['reviews', 'max_60_newinstalls',\n",
       "                                              'max_45_newinstalls',\n",
       "                                              'max_90_newinstalls',\n",
       "                                              'avg_15_newinstalls',\n",
       "                                              'max_90_predictionLoss',\n",
       "                                              'category_flag', 'daily_ratings',\n",
       "                                              'max_90_diff_install_uninstall',\n",
       "                                              'max_90_daily_ratings',\n",
       "                                              'predictionLoss',\n",
       "                                              'max_30_newinstalls',\n",
       "                                              'avg_30_newin...\n",
       "                                              'sum_90_newinstalls',\n",
       "                                              'avg_45_predictionLoss',\n",
       "                                              'avg_90_predictionLoss',\n",
       "                                              'avg_30_predictionLoss',\n",
       "                                              'avg_60_diff_install_uninstall',\n",
       "                                              'sum_90_diff_install_uninstall'],\n",
       "                                     transformer=SimpleImputer())),\n",
       "                 ('categorical_imputer',\n",
       "                  TransformerWrapper(include=[],\n",
       "                                     transformer=SimpleImputer(strategy='most_frequent'))),\n",
       "                 ('trained_model',\n",
       "                  RandomForestRegressor(n_jobs=6, random_state=4448))]),\n",
       " 'model_dau.pkl')"
      ]
     },
     "execution_count": 88,
     "metadata": {},
     "output_type": "execute_result"
    }
   ],
   "source": [
    "save_model(tuned_model, \"model_dau\")"
   ]
  },
  {
   "cell_type": "code",
   "execution_count": 90,
   "id": "bd38645a",
   "metadata": {},
   "outputs": [
    {
     "name": "stdout",
     "output_type": "stream",
     "text": [
      "Transformation Pipeline and Model Successfully Loaded\n"
     ]
    }
   ],
   "source": [
    "model = load_model(\"model_dau\")"
   ]
  },
  {
   "cell_type": "code",
   "execution_count": 91,
   "id": "ec4a9460",
   "metadata": {},
   "outputs": [
    {
     "data": {
      "text/html": [
       "<style type=\"text/css\">\n",
       "</style>\n",
       "<table id=\"T_632f2\">\n",
       "  <thead>\n",
       "    <tr>\n",
       "      <th class=\"blank level0\" >&nbsp;</th>\n",
       "      <th id=\"T_632f2_level0_col0\" class=\"col_heading level0 col0\" >Model</th>\n",
       "      <th id=\"T_632f2_level0_col1\" class=\"col_heading level0 col1\" >MAE</th>\n",
       "      <th id=\"T_632f2_level0_col2\" class=\"col_heading level0 col2\" >MSE</th>\n",
       "      <th id=\"T_632f2_level0_col3\" class=\"col_heading level0 col3\" >RMSE</th>\n",
       "      <th id=\"T_632f2_level0_col4\" class=\"col_heading level0 col4\" >R2</th>\n",
       "      <th id=\"T_632f2_level0_col5\" class=\"col_heading level0 col5\" >RMSLE</th>\n",
       "      <th id=\"T_632f2_level0_col6\" class=\"col_heading level0 col6\" >MAPE</th>\n",
       "    </tr>\n",
       "  </thead>\n",
       "  <tbody>\n",
       "    <tr>\n",
       "      <th id=\"T_632f2_level0_row0\" class=\"row_heading level0 row0\" >0</th>\n",
       "      <td id=\"T_632f2_row0_col0\" class=\"data row0 col0\" >Random Forest Regressor</td>\n",
       "      <td id=\"T_632f2_row0_col1\" class=\"data row0 col1\" >52575.8134</td>\n",
       "      <td id=\"T_632f2_row0_col2\" class=\"data row0 col2\" >27606001230.3848</td>\n",
       "      <td id=\"T_632f2_row0_col3\" class=\"data row0 col3\" >166150.5379</td>\n",
       "      <td id=\"T_632f2_row0_col4\" class=\"data row0 col4\" >0.9859</td>\n",
       "      <td id=\"T_632f2_row0_col5\" class=\"data row0 col5\" >0.5904</td>\n",
       "      <td id=\"T_632f2_row0_col6\" class=\"data row0 col6\" >0.9385</td>\n",
       "    </tr>\n",
       "  </tbody>\n",
       "</table>\n"
      ],
      "text/plain": [
       "<pandas.io.formats.style.Styler at 0x7f3bb80f5f70>"
      ]
     },
     "metadata": {},
     "output_type": "display_data"
    }
   ],
   "source": [
    "a=predict_model(model, abt_test_01)"
   ]
  },
  {
   "cell_type": "code",
   "execution_count": 92,
   "id": "4e070162",
   "metadata": {},
   "outputs": [],
   "source": [
    "# saving the bases"
   ]
  },
  {
   "cell_type": "code",
   "execution_count": 93,
   "id": "20ae37b1",
   "metadata": {},
   "outputs": [],
   "source": [
    "abt_train_01.to_csv(\"abt_treino.csv\", index=False)"
   ]
  },
  {
   "cell_type": "code",
   "execution_count": 94,
   "id": "9a643e00",
   "metadata": {},
   "outputs": [],
   "source": [
    "abt_test_01.to_csv(\"abt_teste.csv\", index = False)"
   ]
  },
  {
   "cell_type": "code",
   "execution_count": null,
   "id": "0713543a",
   "metadata": {},
   "outputs": [],
   "source": []
  }
 ],
 "metadata": {
  "kernelspec": {
   "display_name": "Python 3",
   "language": "python",
   "name": "python3"
  },
  "language_info": {
   "codemirror_mode": {
    "name": "ipython",
    "version": 3
   },
   "file_extension": ".py",
   "mimetype": "text/x-python",
   "name": "python",
   "nbconvert_exporter": "python",
   "pygments_lexer": "ipython3",
   "version": "3.9.5"
  }
 },
 "nbformat": 4,
 "nbformat_minor": 5
}

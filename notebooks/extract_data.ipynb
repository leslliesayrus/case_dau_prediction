{
 "cells": [
  {
   "cell_type": "code",
   "execution_count": null,
   "id": "82b69f43-6751-4902-877d-d46291f0c333",
   "metadata": {},
   "outputs": [],
   "source": [
    "import pandas as pd\n",
    "from sqlalchemy import create_engine"
   ]
  },
  {
   "cell_type": "code",
   "execution_count": null,
   "id": "95f16915-cbc0-4d9b-b985-82b010d055da",
   "metadata": {},
   "outputs": [],
   "source": [
    "# Conexão com o banco de dados para extração dos dados\n",
    "user = ''\n",
    "password = ''\n",
    "host = ''\n",
    "database = ''\n",
    "port = \n",
    "\n",
    "connection_string = f'mysql+mysqlconnector://{user}:{password}@{host}:{port}/{database}'\n",
    "engine = create_engine(connection_string)"
   ]
  },
  {
   "cell_type": "code",
   "execution_count": 30,
   "id": "0e19dc5d-c992-4135-bae6-352388cdc6b6",
   "metadata": {},
   "outputs": [],
   "source": [
    "# Função que extrai a tabela e salva na pasta data\n",
    "def extract_table(table_name, engine):\n",
    "    select_query =f\"SELECT * FROM {table_name}\"\n",
    "    table = pd.read_sql(select_query, engine)\n",
    "    table.to_csv(f\"{table_name}.csv\", index = False)"
   ]
  },
  {
   "cell_type": "code",
   "execution_count": 31,
   "id": "4f5cebe2-555a-469e-8863-2eabdfb116dc",
   "metadata": {},
   "outputs": [],
   "source": [
    "tables = ['daumau',\n",
    "'desinstalacoes',\n",
    "'installs',\n",
    "'ratings_reviews']"
   ]
  },
  {
   "cell_type": "code",
   "execution_count": 32,
   "id": "ce4fe572-5be2-47af-a295-ff7b7d5d9146",
   "metadata": {},
   "outputs": [
    {
     "name": "stdout",
     "output_type": "stream",
     "text": [
      "extracting the table daumau\n",
      "extracting the table desinstalacoes\n",
      "extracting the table installs\n",
      "extracting the table ratings_reviews\n"
     ]
    }
   ],
   "source": [
    "for i in tables:\n",
    "    print(f\"extracting the table {i}\")\n",
    "    extract_table(i, engine)"
   ]
  }
 ],
 "metadata": {
  "kernelspec": {
   "display_name": "Python 3 (ipykernel)",
   "language": "python",
   "name": "python3"
  },
  "language_info": {
   "codemirror_mode": {
    "name": "ipython",
    "version": 3
   },
   "file_extension": ".py",
   "mimetype": "text/x-python",
   "name": "python",
   "nbconvert_exporter": "python",
   "pygments_lexer": "ipython3",
   "version": "3.11.6"
  }
 },
 "nbformat": 4,
 "nbformat_minor": 5
}
